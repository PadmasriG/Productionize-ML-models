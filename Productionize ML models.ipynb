{
 "cells": [
  {
   "cell_type": "markdown",
   "metadata": {},
   "source": [
    "<img src=\"https://shwetkm.github.io/upxlogo.png\"></img>\n",
    "\n",
    "\n",
    "# Live Project - Productionize Machine Learning models - Task 1(sample)"
   ]
  },
  {
   "cell_type": "code",
   "execution_count": null,
   "metadata": {},
   "outputs": [],
   "source": []
  },
  {
   "cell_type": "code",
   "execution_count": 1,
   "metadata": {},
   "outputs": [],
   "source": [
    "#Import basic packages\n",
    "\n",
    "import warnings\n",
    "warnings.filterwarnings(\"ignore\")\n",
    "import time\n",
    "import pandas as pd               \n",
    "import numpy as np\n",
    "import pickle\n",
    "import sys\n",
    "\n",
    "import plotly\n",
    "from plotly.data import iris\n",
    "\n",
    "import sklearn\n",
    "from sklearn.model_selection import train_test_split   #splitting data\n",
    "from pylab import rcParams\n",
    "from sklearn.linear_model import LinearRegression         #linear regression\n",
    "from sklearn.metrics.regression import mean_squared_error #error metrics\n",
    "from sklearn.metrics import mean_absolute_error\n",
    "from sklearn.preprocessing import StandardScaler\n",
    "\n",
    "from sklearn.model_selection import GridSearchCV\n",
    "from sklearn import datasets\n",
    "from sklearn.metrics import accuracy_score\n",
    "from sklearn.cluster import KMeans\n"
   ]
  },
  {
   "cell_type": "code",
   "execution_count": 2,
   "metadata": {},
   "outputs": [],
   "source": [
    "#Import dictionaries for setting basic parameters and model parameters\n",
    "from Padmasriclassifier_sc import classifier_config_dict,basic_params_dict,gridsearchParameters_dict"
   ]
  },
  {
   "cell_type": "code",
   "execution_count": 3,
   "metadata": {},
   "outputs": [],
   "source": [
    "#Import Dataset\n",
    "df_iris = iris()"
   ]
  },
  {
   "cell_type": "code",
   "execution_count": 4,
   "metadata": {},
   "outputs": [],
   "source": [
    "#View columns and paste in classifier_sc.py file with relevant columns\n",
    "df_iris.columns#Import dictionaries for setting basic parameters and model parameters\n",
    "from Padmasriclassifier_sc import classifier_config_dict,basic_params_dict,gridsearchParameters_dict"
   ]
  },
  {
   "cell_type": "code",
   "execution_count": 5,
   "metadata": {},
   "outputs": [
    {
     "data": {
      "text/html": [
       "<div>\n",
       "<style scoped>\n",
       "    .dataframe tbody tr th:only-of-type {\n",
       "        vertical-align: middle;\n",
       "    }\n",
       "\n",
       "    .dataframe tbody tr th {\n",
       "        vertical-align: top;\n",
       "    }\n",
       "\n",
       "    .dataframe thead th {\n",
       "        text-align: right;\n",
       "    }\n",
       "</style>\n",
       "<table border=\"1\" class=\"dataframe\">\n",
       "  <thead>\n",
       "    <tr style=\"text-align: right;\">\n",
       "      <th></th>\n",
       "      <th>sepal_length</th>\n",
       "      <th>sepal_width</th>\n",
       "      <th>petal_length</th>\n",
       "      <th>petal_width</th>\n",
       "      <th>species</th>\n",
       "      <th>species_id</th>\n",
       "    </tr>\n",
       "  </thead>\n",
       "  <tbody>\n",
       "    <tr>\n",
       "      <th>0</th>\n",
       "      <td>5.1</td>\n",
       "      <td>3.5</td>\n",
       "      <td>1.4</td>\n",
       "      <td>0.2</td>\n",
       "      <td>setosa</td>\n",
       "      <td>1</td>\n",
       "    </tr>\n",
       "    <tr>\n",
       "      <th>1</th>\n",
       "      <td>4.9</td>\n",
       "      <td>3.0</td>\n",
       "      <td>1.4</td>\n",
       "      <td>0.2</td>\n",
       "      <td>setosa</td>\n",
       "      <td>1</td>\n",
       "    </tr>\n",
       "    <tr>\n",
       "      <th>2</th>\n",
       "      <td>4.7</td>\n",
       "      <td>3.2</td>\n",
       "      <td>1.3</td>\n",
       "      <td>0.2</td>\n",
       "      <td>setosa</td>\n",
       "      <td>1</td>\n",
       "    </tr>\n",
       "    <tr>\n",
       "      <th>3</th>\n",
       "      <td>4.6</td>\n",
       "      <td>3.1</td>\n",
       "      <td>1.5</td>\n",
       "      <td>0.2</td>\n",
       "      <td>setosa</td>\n",
       "      <td>1</td>\n",
       "    </tr>\n",
       "    <tr>\n",
       "      <th>4</th>\n",
       "      <td>5.0</td>\n",
       "      <td>3.6</td>\n",
       "      <td>1.4</td>\n",
       "      <td>0.2</td>\n",
       "      <td>setosa</td>\n",
       "      <td>1</td>\n",
       "    </tr>\n",
       "  </tbody>\n",
       "</table>\n",
       "</div>"
      ],
      "text/plain": [
       "   sepal_length  sepal_width  petal_length  petal_width species  species_id\n",
       "0           5.1          3.5           1.4          0.2  setosa           1\n",
       "1           4.9          3.0           1.4          0.2  setosa           1\n",
       "2           4.7          3.2           1.3          0.2  setosa           1\n",
       "3           4.6          3.1           1.5          0.2  setosa           1\n",
       "4           5.0          3.6           1.4          0.2  setosa           1"
      ]
     },
     "execution_count": 5,
     "metadata": {},
     "output_type": "execute_result"
    }
   ],
   "source": [
    "df_iris.head(5)"
   ]
  },
  {
   "cell_type": "code",
   "execution_count": 6,
   "metadata": {},
   "outputs": [],
   "source": [
    "# Create a class to perform base model operations\n",
    "class BaseModelHelper:\n",
    "    def __init__(self,base_param,base_model,gridsearch_base_params):\n",
    "        self.base_param = base_param\n",
    "        self.base_model = base_model\n",
    "        #Initialize X\n",
    "        self.X = self.base_param['X']\n",
    "        #Initialize y\n",
    "        self.y = self.base_param['y']\n",
    "        #set random seed\n",
    "        self.random_state = self.base_param['seed']\n",
    "        #Set test_size\n",
    "        self.test_size = self.base_param['test_size']\n",
    "        #set base model params\n",
    "        #self.base_model = self.base_model\n",
    "        \n",
    "        # Setting grid search parameters\n",
    "        self.base_gridsearch_params = gridsearch_base_params\n",
    "     \n",
    "    #Function to standardize columns\n",
    "    def normalize_columns(self):\n",
    "        \n",
    "        X=df_iris[self.X]\n",
    "        #Scale the values\n",
    "        scaler = StandardScaler()\n",
    "        scaler.fit(X)\n",
    "\n",
    "        # Scale and center the data\n",
    "        fdf_normalized = scaler.transform(X)\n",
    "\n",
    "        # Create a pandas DataFrame\n",
    "        fdf_normalized = pd.DataFrame(data=fdf_normalized, index=X.index, columns=X.columns)\n",
    "        return fdf_normalized\n",
    "    \n",
    "    #Function to perform train test split\n",
    "    def train_test_split_base(self,X_norm):\n",
    "        self.X=X_norm\n",
    "        self.X_train, self.X_test, self.y_train, self.y_test = train_test_split(self.X,df_iris[self.y],random_state=self.random_state,test_size=self.test_size)\n",
    "    \n",
    "   \n",
    "    \n",
    "    \n",
    "    #Building model\n",
    "    def model_build(self):\n",
    "        X_norm = self.normalize_columns()\n",
    "        b.train_test_split_base(X_norm)\n",
    "        \n",
    "        df_Scores = pd.DataFrame(columns = ['Name','Train Accuracy', 'Test Accuracy','Parameters']) \n",
    "        \n",
    "        for key in self.base_model:\n",
    "            model=self.base_model[key]\n",
    "            model.fit(self.X_train,self.y_train)\n",
    "            y_pred_test = model.predict(self.X_test)\n",
    "            \n",
    "            print(key)\n",
    "         #   print(self.base_model)\n",
    "            #gridsearch cv            \n",
    "            \n",
    "            params = self.base_gridsearch_params[key]\n",
    "            \n",
    "            gscvResults = GridSearchCV(model, params, cv = 3, n_jobs=-3, verbose=2)\n",
    "\n",
    "            gscvResults.fit(self.X_train,self.y_train)\n",
    "            y_pred_test = gscvResults.predict(self.X_test)\n",
    "            \n",
    "            train_accuracy=accuracy_score(self.y_train, gscvResults.predict(self.X_train))            \n",
    "            test_accuracy=accuracy_score(self.y_test, y_pred_test)\n",
    "            \n",
    "            \n",
    "            df_Scores = df_Scores.append({'Name': key, 'Train Accuracy': train_accuracy, 'Test Accuracy': test_accuracy,'Parameters':gscvResults.best_params_}, ignore_index=True)\n",
    "            \n",
    "                      \n",
    "        return df_Scores       \n",
    "        \n",
    "        \n",
    "        \n",
    "        \n",
    "        \n",
    "        "
   ]
  },
  {
   "cell_type": "code",
   "execution_count": 7,
   "metadata": {
    "scrolled": false
   },
   "outputs": [
    {
     "name": "stdout",
     "output_type": "stream",
     "text": [
      "DecisionTreeClassifier\n",
      "Fitting 3 folds for each of 32 candidates, totalling 96 fits\n"
     ]
    },
    {
     "name": "stderr",
     "output_type": "stream",
     "text": [
      "[Parallel(n_jobs=-3)]: Using backend LokyBackend with 2 concurrent workers.\n",
      "[Parallel(n_jobs=-3)]: Done  96 out of  96 | elapsed:    2.9s finished\n",
      "C:\\Users\\Admin\\Anaconda3\\lib\\site-packages\\sklearn\\model_selection\\_search.py:841: DeprecationWarning:\n",
      "\n",
      "The default of the `iid` parameter will change from True to False in version 0.22 and will be removed in 0.24. This will change numeric results when test-set sizes are unequal.\n",
      "\n"
     ]
    },
    {
     "name": "stdout",
     "output_type": "stream",
     "text": [
      "LogisticRegression\n",
      "Fitting 3 folds for each of 26 candidates, totalling 78 fits\n"
     ]
    },
    {
     "name": "stderr",
     "output_type": "stream",
     "text": [
      "[Parallel(n_jobs=-3)]: Using backend LokyBackend with 2 concurrent workers.\n",
      "[Parallel(n_jobs=-3)]: Done  78 out of  78 | elapsed:    0.4s finished\n",
      "C:\\Users\\Admin\\Anaconda3\\lib\\site-packages\\sklearn\\model_selection\\_search.py:841: DeprecationWarning:\n",
      "\n",
      "The default of the `iid` parameter will change from True to False in version 0.22 and will be removed in 0.24. This will change numeric results when test-set sizes are unequal.\n",
      "\n"
     ]
    },
    {
     "name": "stdout",
     "output_type": "stream",
     "text": [
      "KMeans\n",
      "Fitting 3 folds for each of 6 candidates, totalling 18 fits\n"
     ]
    },
    {
     "name": "stderr",
     "output_type": "stream",
     "text": [
      "[Parallel(n_jobs=-3)]: Using backend LokyBackend with 2 concurrent workers.\n",
      "[Parallel(n_jobs=-3)]: Done  18 out of  18 | elapsed:    0.8s finished\n"
     ]
    },
    {
     "name": "stdout",
     "output_type": "stream",
     "text": [
      "KNeighborsClassifier\n",
      "Fitting 3 folds for each of 16 candidates, totalling 48 fits\n"
     ]
    },
    {
     "name": "stderr",
     "output_type": "stream",
     "text": [
      "[Parallel(n_jobs=-3)]: Using backend LokyBackend with 2 concurrent workers.\n",
      "[Parallel(n_jobs=-3)]: Done  48 out of  48 | elapsed:    0.2s finished\n",
      "C:\\Users\\Admin\\Anaconda3\\lib\\site-packages\\sklearn\\model_selection\\_search.py:841: DeprecationWarning:\n",
      "\n",
      "The default of the `iid` parameter will change from True to False in version 0.22 and will be removed in 0.24. This will change numeric results when test-set sizes are unequal.\n",
      "\n",
      "[Parallel(n_jobs=-3)]: Using backend LokyBackend with 2 concurrent workers.\n"
     ]
    },
    {
     "name": "stdout",
     "output_type": "stream",
     "text": [
      "RandomForestClassifier\n",
      "Fitting 3 folds for each of 1920 candidates, totalling 5760 fits\n"
     ]
    },
    {
     "name": "stderr",
     "output_type": "stream",
     "text": [
      "[Parallel(n_jobs=-3)]: Done 400 tasks      | elapsed:    4.0s\n",
      "[Parallel(n_jobs=-3)]: Done 1852 tasks      | elapsed:   19.2s\n",
      "[Parallel(n_jobs=-3)]: Done 4288 tasks      | elapsed:   45.4s\n",
      "[Parallel(n_jobs=-3)]: Done 5760 out of 5760 | elapsed:  1.0min finished\n",
      "C:\\Users\\Admin\\Anaconda3\\lib\\site-packages\\sklearn\\model_selection\\_search.py:841: DeprecationWarning:\n",
      "\n",
      "The default of the `iid` parameter will change from True to False in version 0.22 and will be removed in 0.24. This will change numeric results when test-set sizes are unequal.\n",
      "\n",
      "[Parallel(n_jobs=-3)]: Using backend LokyBackend with 2 concurrent workers.\n"
     ]
    },
    {
     "name": "stdout",
     "output_type": "stream",
     "text": [
      "SVC\n",
      "Fitting 3 folds for each of 20 candidates, totalling 60 fits\n",
      "                     Name  Train Accuracy  Test Accuracy  \\\n",
      "0  DecisionTreeClassifier        0.990476       0.911111   \n",
      "1      LogisticRegression        0.971429       0.955556   \n",
      "2                  KMeans        0.085714       0.111111   \n",
      "3    KNeighborsClassifier        0.971429       0.911111   \n",
      "4  RandomForestClassifier        0.980952       0.955556   \n",
      "5                     SVC        0.980952       0.955556   \n",
      "\n",
      "                                          Parameters  \n",
      "0  {'criterion': 'gini', 'max_depth': 4, 'max_fea...  \n",
      "1                       {'C': 15.0, 'penalty': 'l1'}  \n",
      "2                                 {'n_clusters': 30}  \n",
      "3   {'n_neighbors': 6, 'p': 2, 'weights': 'uniform'}  \n",
      "4  {'criterion': 'gini', 'max_depth': 30, 'max_fe...  \n",
      "5                            {'C': 10, 'gamma': 0.1}  \n"
     ]
    },
    {
     "name": "stderr",
     "output_type": "stream",
     "text": [
      "[Parallel(n_jobs=-3)]: Done  60 out of  60 | elapsed:    0.1s finished\n",
      "C:\\Users\\Admin\\Anaconda3\\lib\\site-packages\\sklearn\\model_selection\\_search.py:841: DeprecationWarning:\n",
      "\n",
      "The default of the `iid` parameter will change from True to False in version 0.22 and will be removed in 0.24. This will change numeric results when test-set sizes are unequal.\n",
      "\n"
     ]
    }
   ],
   "source": [
    "# Calling BaseModelHelper with basic_params_dict and classifier_config_dict from classifier_sc.py \n",
    "b=BaseModelHelper(basic_params_dict,classifier_config_dict,gridsearchParameters_dict)\n",
    "# Model Building\n",
    "df_ResultScore=b.model_build()\n",
    "print(df_ResultScore)"
   ]
  },
  {
   "cell_type": "code",
   "execution_count": null,
   "metadata": {},
   "outputs": [],
   "source": []
  },
  {
   "cell_type": "code",
   "execution_count": null,
   "metadata": {},
   "outputs": [],
   "source": []
  },
  {
   "cell_type": "code",
   "execution_count": null,
   "metadata": {},
   "outputs": [],
   "source": []
  },
  {
   "cell_type": "code",
   "execution_count": null,
   "metadata": {},
   "outputs": [],
   "source": []
  },
  {
   "cell_type": "code",
   "execution_count": null,
   "metadata": {},
   "outputs": [],
   "source": []
  },
  {
   "cell_type": "code",
   "execution_count": null,
   "metadata": {},
   "outputs": [],
   "source": []
  }
 ],
 "metadata": {
  "kernelspec": {
   "display_name": "Python 3",
   "language": "python",
   "name": "python3"
  },
  "language_info": {
   "codemirror_mode": {
    "name": "ipython",
    "version": 3
   },
   "file_extension": ".py",
   "mimetype": "text/x-python",
   "name": "python",
   "nbconvert_exporter": "python",
   "pygments_lexer": "ipython3",
   "version": "3.7.1"
  }
 },
 "nbformat": 4,
 "nbformat_minor": 2
}
